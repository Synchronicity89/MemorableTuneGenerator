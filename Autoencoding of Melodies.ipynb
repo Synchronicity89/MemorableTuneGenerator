{
 "cells": [
  {
   "cell_type": "markdown",
   "metadata": {},
   "source": [
    "# Hypothesis: Autoencoding with DNNs Can Highly Compress Musical Melodies Containing Repetitive Patterns, Providing Insight into How Animal Brains Might Compress Melodies"
   ]
  },
  {
   "cell_type": "markdown",
   "metadata": {},
   "source": [
    "Assumptions: Humans and birds can quickly memorize songs which contain repeated patterns.  Recent advances in translation of audio created in one human language into audio of another human language make use of autoencoding. It reasonable to assume that autoencoding could be used to compress the data of songs so it can be stored more easily."
   ]
  },
  {
   "cell_type": "code",
   "execution_count": 4,
   "metadata": {},
   "outputs": [
    {
     "ename": "FileLoadException",
     "evalue": "Could not load file or assembly 'MidiCsvCompression\\/bin\\/Debug\\/net6.0\\/MidiCsvCompression.dll' or one of its dependencies. The given assembly name or codebase was invalid. (Exception from HRESULT: 0x80131047)\r\nFile name: 'MidiCsvCompression\\/bin\\/Debug\\/net6.0\\/MidiCsvCompression.dll'\r\n   at System.Reflection.AssemblyName.nInit(RuntimeAssembly& assembly, Boolean forIntrospection, Boolean raiseResolveEvent)\r\n   at System.Reflection.RuntimeAssembly.CreateAssemblyName(String assemblyString, Boolean forIntrospection, RuntimeAssembly& assemblyFromResolveEvent)\r\n   at System.Reflection.RuntimeAssembly.InternalLoad(String assemblyString, Evidence assemblySecurity, StackCrawlMark& stackMark, IntPtr pPrivHostBinder, Boolean forIntrospection)\r\n   at System.Reflection.RuntimeAssembly.InternalLoad(String assemblyString, Evidence assemblySecurity, StackCrawlMark& stackMark, Boolean forIntrospection)\r\n   at System.Reflection.Assembly.Load(String assemblyString)\r\n   at Python.Runtime.AssemblyManager.LoadAssembly(String name)\r\n   at Python.Runtime.CLRModule.AddReference(String name)\r\n\r\n",
     "output_type": "error",
     "traceback": [
      "\u001b[1;31m---------------------------------------------------------------------------\u001b[0m",
      "\u001b[1;31mFileLoadException\u001b[0m                         Traceback (most recent call last)",
      "\u001b[1;32m<ipython-input-4-0861fd5f017a>\u001b[0m in \u001b[0;36m<module>\u001b[1;34m\u001b[0m\n\u001b[0;32m     12\u001b[0m \u001b[0msys\u001b[0m\u001b[1;33m.\u001b[0m\u001b[0mpath\u001b[0m\u001b[1;33m.\u001b[0m\u001b[0mappend\u001b[0m\u001b[1;33m(\u001b[0m\u001b[1;34m\"MidiCsvCompression/bin/Debug/net6.0/\"\u001b[0m\u001b[1;33m)\u001b[0m  \u001b[1;31m#\u001b[0m\u001b[1;33m\u001b[0m\u001b[1;33m\u001b[0m\u001b[0m\n\u001b[0;32m     13\u001b[0m \u001b[1;33m\u001b[0m\u001b[0m\n\u001b[1;32m---> 14\u001b[1;33m \u001b[0mclr\u001b[0m\u001b[1;33m.\u001b[0m\u001b[0mAddReference\u001b[0m\u001b[1;33m(\u001b[0m\u001b[1;34m\"MidiCsvCompression/bin/Debug/net6.0/MidiCsvCompression.dll\"\u001b[0m\u001b[1;33m)\u001b[0m\u001b[1;33m\u001b[0m\u001b[1;33m\u001b[0m\u001b[0m\n\u001b[0m\u001b[0;32m     15\u001b[0m \u001b[1;32mfrom\u001b[0m \u001b[0mMidiCsvCompression\u001b[0m \u001b[1;32mimport\u001b[0m \u001b[0mCompress\u001b[0m\u001b[1;33m\u001b[0m\u001b[1;33m\u001b[0m\u001b[0m\n\u001b[0;32m     16\u001b[0m \u001b[1;31m# from System import String\u001b[0m\u001b[1;33m\u001b[0m\u001b[1;33m\u001b[0m\u001b[1;33m\u001b[0m\u001b[0m\n",
      "\u001b[1;31mFileLoadException\u001b[0m: Could not load file or assembly 'MidiCsvCompression\\/bin\\/Debug\\/net6.0\\/MidiCsvCompression.dll' or one of its dependencies. The given assembly name or codebase was invalid. (Exception from HRESULT: 0x80131047)\r\nFile name: 'MidiCsvCompression\\/bin\\/Debug\\/net6.0\\/MidiCsvCompression.dll'\r\n   at System.Reflection.AssemblyName.nInit(RuntimeAssembly& assembly, Boolean forIntrospection, Boolean raiseResolveEvent)\r\n   at System.Reflection.RuntimeAssembly.CreateAssemblyName(String assemblyString, Boolean forIntrospection, RuntimeAssembly& assemblyFromResolveEvent)\r\n   at System.Reflection.RuntimeAssembly.InternalLoad(String assemblyString, Evidence assemblySecurity, StackCrawlMark& stackMark, IntPtr pPrivHostBinder, Boolean forIntrospection)\r\n   at System.Reflection.RuntimeAssembly.InternalLoad(String assemblyString, Evidence assemblySecurity, StackCrawlMark& stackMark, Boolean forIntrospection)\r\n   at System.Reflection.Assembly.Load(String assemblyString)\r\n   at Python.Runtime.AssemblyManager.LoadAssembly(String name)\r\n   at Python.Runtime.CLRModule.AddReference(String name)\r\n\r\n"
     ]
    }
   ],
   "source": [
    "# !pip install pythonnet\n",
    "from clr_loader import get_coreclr\n",
    "from pythonnet import set_runtime\n",
    "\n",
    "# rt = get_coreclr(\"MidiCsvCompression/bin/Debug/net6.0/MidiCsvCompression.deps.json\")\n",
    "# set_runtime(rt)\n",
    "\n",
    "import clr\n",
    "#must compile C# core project MidiCsvCompression.  (.NET 6.0 should work on Windows, Mac and Linux)\n",
    "#On Windows cygwyn the .NET library may have to be made COM visible and functions exported for ctypes to access.\n",
    "import sys\n",
    "sys.path.append(\"MidiCsvCompression/bin/Debug/net6.0/\")  # \n",
    "\n",
    "clr.AddReference(\"MidiCsvCompression/bin/Debug/net6.0/MidiCsvCompression.dll\")\n",
    "from MidiCsvCompression import Compress\n",
    "# from System import String\n",
    "# from System.Collections import *\n",
    "                 \n",
    "                 "
   ]
  },
  {
   "cell_type": "code",
   "execution_count": 3,
   "metadata": {},
   "outputs": [
    {
     "ename": "NameError",
     "evalue": "name 'Compress' is not defined",
     "output_type": "error",
     "traceback": [
      "\u001b[1;31m---------------------------------------------------------------------------\u001b[0m",
      "\u001b[1;31mNameError\u001b[0m                                 Traceback (most recent call last)",
      "\u001b[1;32m<ipython-input-3-a3c795c2618c>\u001b[0m in \u001b[0;36m<module>\u001b[1;34m\u001b[0m\n\u001b[1;32m----> 1\u001b[1;33m \u001b[0mcompress\u001b[0m \u001b[1;33m=\u001b[0m \u001b[0mCompress\u001b[0m\u001b[1;33m(\u001b[0m\u001b[1;33m)\u001b[0m\u001b[1;33m;\u001b[0m\u001b[1;33m\u001b[0m\u001b[1;33m\u001b[0m\u001b[0m\n\u001b[0m\u001b[0;32m      2\u001b[0m \u001b[0mlines\u001b[0m \u001b[1;33m=\u001b[0m \u001b[0mcompress\u001b[0m\u001b[1;33m.\u001b[0m\u001b[0mReadMidiCsv\u001b[0m\u001b[1;33m(\u001b[0m\u001b[1;34m\"example_converted.csv\"\u001b[0m\u001b[1;33m)\u001b[0m\u001b[1;33m;\u001b[0m\u001b[1;33m\u001b[0m\u001b[1;33m\u001b[0m\u001b[0m\n\u001b[0;32m      3\u001b[0m \u001b[0mnewLines\u001b[0m \u001b[1;33m=\u001b[0m \u001b[0mcompress\u001b[0m\u001b[1;33m.\u001b[0m\u001b[0mConvertToRelative\u001b[0m\u001b[1;33m(\u001b[0m\u001b[0mlines\u001b[0m\u001b[1;33m)\u001b[0m\u001b[1;33m;\u001b[0m\u001b[1;33m\u001b[0m\u001b[1;33m\u001b[0m\u001b[0m\n",
      "\u001b[1;31mNameError\u001b[0m: name 'Compress' is not defined"
     ]
    }
   ],
   "source": [
    "compress = Compress();\n",
    "lines = compress.ReadMidiCsv(\"example_converted.csv\");\n",
    "newLines = compress.ConvertToRelative(lines);\n"
   ]
  },
  {
   "cell_type": "code",
   "execution_count": null,
   "metadata": {},
   "outputs": [],
   "source": [
    "relPath = \"example_converted.csv\".substring(0, \"example_converted.csv\".Length - 4) + \"Rel.csv\";\n",
    "relLines = new List<string>();\n",
    "index = 0;\n"
   ]
  },
  {
   "cell_type": "markdown",
   "metadata": {},
   "source": []
  }
 ],
 "metadata": {
  "kernelspec": {
   "display_name": "Python 3",
   "language": "python",
   "name": "python3"
  },
  "language_info": {
   "codemirror_mode": {
    "name": "ipython",
    "version": 3
   },
   "file_extension": ".py",
   "mimetype": "text/x-python",
   "name": "python",
   "nbconvert_exporter": "python",
   "pygments_lexer": "ipython3",
   "version": "3.6.8"
  }
 },
 "nbformat": 4,
 "nbformat_minor": 2
}
